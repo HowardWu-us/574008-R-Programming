{
 "cells": [
  {
   "cell_type": "code",
   "execution_count": 41,
   "metadata": {
    "vscode": {
     "languageId": "r"
    }
   },
   "outputs": [
    {
     "data": {
      "text/html": [
       "<table class=\"dataframe\">\n",
       "<caption>A data.frame: 6 x 5</caption>\n",
       "<thead>\n",
       "\t<tr><th></th><th scope=col>Sepal.Length</th><th scope=col>Sepal.Width</th><th scope=col>Petal.Length</th><th scope=col>Petal.Width</th><th scope=col>Species</th></tr>\n",
       "\t<tr><th></th><th scope=col>&lt;dbl&gt;</th><th scope=col>&lt;dbl&gt;</th><th scope=col>&lt;dbl&gt;</th><th scope=col>&lt;dbl&gt;</th><th scope=col>&lt;fct&gt;</th></tr>\n",
       "</thead>\n",
       "<tbody>\n",
       "\t<tr><th scope=row>1</th><td>5.1</td><td>3.5</td><td>1.4</td><td>0.2</td><td>setosa</td></tr>\n",
       "\t<tr><th scope=row>2</th><td>4.9</td><td>3.0</td><td>1.4</td><td>0.2</td><td>setosa</td></tr>\n",
       "\t<tr><th scope=row>3</th><td>4.7</td><td>3.2</td><td>1.3</td><td>0.2</td><td>setosa</td></tr>\n",
       "\t<tr><th scope=row>4</th><td>4.6</td><td>3.1</td><td>1.5</td><td>0.2</td><td>setosa</td></tr>\n",
       "\t<tr><th scope=row>5</th><td>5.0</td><td>3.6</td><td>1.4</td><td>0.2</td><td>setosa</td></tr>\n",
       "\t<tr><th scope=row>6</th><td>5.4</td><td>3.9</td><td>1.7</td><td>0.4</td><td>setosa</td></tr>\n",
       "</tbody>\n",
       "</table>\n"
      ],
      "text/latex": [
       "A data.frame: 6 x 5\n",
       "\\begin{tabular}{r|lllll}\n",
       "  & Sepal.Length & Sepal.Width & Petal.Length & Petal.Width & Species\\\\\n",
       "  & <dbl> & <dbl> & <dbl> & <dbl> & <fct>\\\\\n",
       "\\hline\n",
       "\t1 & 5.1 & 3.5 & 1.4 & 0.2 & setosa\\\\\n",
       "\t2 & 4.9 & 3.0 & 1.4 & 0.2 & setosa\\\\\n",
       "\t3 & 4.7 & 3.2 & 1.3 & 0.2 & setosa\\\\\n",
       "\t4 & 4.6 & 3.1 & 1.5 & 0.2 & setosa\\\\\n",
       "\t5 & 5.0 & 3.6 & 1.4 & 0.2 & setosa\\\\\n",
       "\t6 & 5.4 & 3.9 & 1.7 & 0.4 & setosa\\\\\n",
       "\\end{tabular}\n"
      ],
      "text/markdown": [
       "\n",
       "A data.frame: 6 x 5\n",
       "\n",
       "| <!--/--> | Sepal.Length &lt;dbl&gt; | Sepal.Width &lt;dbl&gt; | Petal.Length &lt;dbl&gt; | Petal.Width &lt;dbl&gt; | Species &lt;fct&gt; |\n",
       "|---|---|---|---|---|---|\n",
       "| 1 | 5.1 | 3.5 | 1.4 | 0.2 | setosa |\n",
       "| 2 | 4.9 | 3.0 | 1.4 | 0.2 | setosa |\n",
       "| 3 | 4.7 | 3.2 | 1.3 | 0.2 | setosa |\n",
       "| 4 | 4.6 | 3.1 | 1.5 | 0.2 | setosa |\n",
       "| 5 | 5.0 | 3.6 | 1.4 | 0.2 | setosa |\n",
       "| 6 | 5.4 | 3.9 | 1.7 | 0.4 | setosa |\n",
       "\n"
      ],
      "text/plain": [
       "  Sepal.Length Sepal.Width Petal.Length Petal.Width Species\n",
       "1 5.1          3.5         1.4          0.2         setosa \n",
       "2 4.9          3.0         1.4          0.2         setosa \n",
       "3 4.7          3.2         1.3          0.2         setosa \n",
       "4 4.6          3.1         1.5          0.2         setosa \n",
       "5 5.0          3.6         1.4          0.2         setosa \n",
       "6 5.4          3.9         1.7          0.4         setosa "
      ]
     },
     "metadata": {},
     "output_type": "display_data"
    }
   ],
   "source": [
    "head(iris)"
   ]
  },
  {
   "cell_type": "code",
   "execution_count": 52,
   "metadata": {
    "vscode": {
     "languageId": "r"
    }
   },
   "outputs": [
    {
     "data": {
      "text/html": [
       "<style>\n",
       ".list-inline {list-style: none; margin:0; padding: 0}\n",
       ".list-inline>li {display: inline-block}\n",
       ".list-inline>li:not(:last-child)::after {content: \"\\00b7\"; padding: 0 .5ex}\n",
       "</style>\n",
       "<ol class=list-inline><li>120</li><li>5</li></ol>\n"
      ],
      "text/latex": [
       "\\begin{enumerate*}\n",
       "\\item 120\n",
       "\\item 5\n",
       "\\end{enumerate*}\n"
      ],
      "text/markdown": [
       "1. 120\n",
       "2. 5\n",
       "\n",
       "\n"
      ],
      "text/plain": [
       "[1] 120   5"
      ]
     },
     "metadata": {},
     "output_type": "display_data"
    },
    {
     "data": {
      "text/html": [
       "<style>\n",
       ".list-inline {list-style: none; margin:0; padding: 0}\n",
       ".list-inline>li {display: inline-block}\n",
       ".list-inline>li:not(:last-child)::after {content: \"\\00b7\"; padding: 0 .5ex}\n",
       "</style>\n",
       "<ol class=list-inline><li>30</li><li>5</li></ol>\n"
      ],
      "text/latex": [
       "\\begin{enumerate*}\n",
       "\\item 30\n",
       "\\item 5\n",
       "\\end{enumerate*}\n"
      ],
      "text/markdown": [
       "1. 30\n",
       "2. 5\n",
       "\n",
       "\n"
      ],
      "text/plain": [
       "[1] 30  5"
      ]
     },
     "metadata": {},
     "output_type": "display_data"
    }
   ],
   "source": [
    "data_train <- rbind(iris[1:40, ], iris[51:90, ], iris[101:140, ])\n",
    "data_test <- rbind(iris[41:50, ], iris[91:100, ], iris[141:150, ])\n",
    "data_train_rows <- c(1:40, 51:90, 101:140)\n",
    "data_test_rows <- c(41:50, 91:100, 141:150)\n",
    "dim(data_train)\n",
    "dim(data_test)"
   ]
  },
  {
   "cell_type": "code",
   "execution_count": 35,
   "metadata": {
    "vscode": {
     "languageId": "r"
    }
   },
   "outputs": [
    {
     "name": "stdout",
     "output_type": "stream",
     "text": [
      "[1] \"Id\"            \"SepalLengthCm\" \"SepalWidthCm\"  \"PetalLengthCm\"\n",
      "[5] \"PetalWidthCm\"  \"Species\"      \n"
     ]
    }
   ],
   "source": [
    "print(names(data_train))"
   ]
  },
  {
   "cell_type": "code",
   "execution_count": 60,
   "metadata": {
    "vscode": {
     "languageId": "r"
    }
   },
   "outputs": [
    {
     "data": {
      "text/plain": [
       "\n",
       "Call:\n",
       "lm(formula = Sepal.Length ~ Sepal.Width + Petal.Length + Petal.Width, \n",
       "    data = data_train)\n",
       "\n",
       "Residuals:\n",
       "     Min       1Q   Median       3Q      Max \n",
       "-0.77228 -0.22544 -0.00106  0.22173  0.86411 \n",
       "\n",
       "Coefficients:\n",
       "             Estimate Std. Error t value Pr(>|t|)    \n",
       "(Intercept)   1.65347    0.28217   5.860 4.43e-08 ***\n",
       "Sepal.Width   0.69062    0.07419   9.309 9.90e-16 ***\n",
       "Petal.Length  0.80178    0.06507  12.321  < 2e-16 ***\n",
       "Petal.Width  -0.77404    0.14973  -5.170 9.89e-07 ***\n",
       "---\n",
       "Signif. codes:  0 '***' 0.001 '**' 0.01 '*' 0.05 '.' 0.1 ' ' 1\n",
       "\n",
       "Residual standard error: 0.3145 on 116 degrees of freedom\n",
       "Multiple R-squared:  0.8653,\tAdjusted R-squared:  0.8618 \n",
       "F-statistic: 248.3 on 3 and 116 DF,  p-value: < 2.2e-16\n"
      ]
     },
     "metadata": {},
     "output_type": "display_data"
    }
   ],
   "source": [
    "model <- lm(\n",
    "            formula = Sepal.Length ~ Sepal.Width + Petal.Length + Petal.Width,\n",
    "            data = data_train)\n",
    "summary(model)"
   ]
  },
  {
   "cell_type": "code",
   "execution_count": 80,
   "metadata": {
    "vscode": {
     "languageId": "r"
    }
   },
   "outputs": [],
   "source": [
    "predicted_length <- data.frame(\n",
    "    original = data_test$Sepal.Length,\n",
    "    predict = predict(model, data_test)\n",
    ")"
   ]
  },
  {
   "cell_type": "code",
   "execution_count": 81,
   "metadata": {
    "vscode": {
     "languageId": "r"
    }
   },
   "outputs": [
    {
     "data": {
      "text/html": [
       "<table class=\"dataframe\">\n",
       "<caption>A data.frame: 30 x 2</caption>\n",
       "<thead>\n",
       "\t<tr><th></th><th scope=col>original</th><th scope=col>predict</th></tr>\n",
       "\t<tr><th></th><th scope=col>&lt;dbl&gt;</th><th scope=col>&lt;dbl&gt;</th></tr>\n",
       "</thead>\n",
       "<tbody>\n",
       "\t<tr><th scope=row>41</th><td>5.0</td><td>4.880745</td></tr>\n",
       "\t<tr><th scope=row>42</th><td>4.5</td><td>4.052000</td></tr>\n",
       "\t<tr><th scope=row>43</th><td>4.4</td><td>4.750963</td></tr>\n",
       "\t<tr><th scope=row>44</th><td>5.0</td><td>4.889066</td></tr>\n",
       "\t<tr><th scope=row>45</th><td>5.1</td><td>5.491594</td></tr>\n",
       "\t<tr><th scope=row>46</th><td>4.8</td><td>4.615612</td></tr>\n",
       "\t<tr><th scope=row>47</th><td>5.1</td><td>5.405869</td></tr>\n",
       "\t<tr><th scope=row>48</th><td>4.6</td><td>4.831141</td></tr>\n",
       "\t<tr><th scope=row>49</th><td>5.3</td><td>5.256629</td></tr>\n",
       "\t<tr><th scope=row>50</th><td>5.0</td><td>4.900203</td></tr>\n",
       "\t<tr><th scope=row>91</th><td>5.5</td><td>6.048062</td></tr>\n",
       "\t<tr><th scope=row>92</th><td>6.1</td><td>6.329858</td></tr>\n",
       "\t<tr><th scope=row>93</th><td>5.8</td><td>5.727351</td></tr>\n",
       "\t<tr><th scope=row>94</th><td>5.0</td><td>5.113728</td></tr>\n",
       "\t<tr><th scope=row>95</th><td>5.6</td><td>5.879365</td></tr>\n",
       "\t<tr><th scope=row>96</th><td>5.7</td><td>6.163955</td></tr>\n",
       "\t<tr><th scope=row>97</th><td>5.7</td><td>6.017489</td></tr>\n",
       "\t<tr><th scope=row>98</th><td>6.2</td><td>6.097667</td></tr>\n",
       "\t<tr><th scope=row>99</th><td>5.1</td><td>4.933915</td></tr>\n",
       "\t<tr><th scope=row>100</th><td>5.7</td><td>5.868249</td></tr>\n",
       "\t<tr><th scope=row>141</th><td>6.7</td><td>6.426658</td></tr>\n",
       "\t<tr><th scope=row>142</th><td>6.9</td><td>6.103173</td></tr>\n",
       "\t<tr><th scope=row>143</th><td>5.8</td><td>6.136541</td></tr>\n",
       "\t<tr><th scope=row>144</th><td>6.8</td><td>6.813658</td></tr>\n",
       "\t<tr><th scope=row>145</th><td>6.7</td><td>6.567556</td></tr>\n",
       "\t<tr><th scope=row>146</th><td>6.7</td><td>6.114289</td></tr>\n",
       "\t<tr><th scope=row>147</th><td>6.3</td><td>5.918239</td></tr>\n",
       "\t<tr><th scope=row>148</th><td>6.5</td><td>6.346501</td></tr>\n",
       "\t<tr><th scope=row>149</th><td>6.2</td><td>6.550893</td></tr>\n",
       "\t<tr><th scope=row>150</th><td>5.9</td><td>6.421131</td></tr>\n",
       "</tbody>\n",
       "</table>\n"
      ],
      "text/latex": [
       "A data.frame: 30 x 2\n",
       "\\begin{tabular}{r|ll}\n",
       "  & original & predict\\\\\n",
       "  & <dbl> & <dbl>\\\\\n",
       "\\hline\n",
       "\t41 & 5.0 & 4.880745\\\\\n",
       "\t42 & 4.5 & 4.052000\\\\\n",
       "\t43 & 4.4 & 4.750963\\\\\n",
       "\t44 & 5.0 & 4.889066\\\\\n",
       "\t45 & 5.1 & 5.491594\\\\\n",
       "\t46 & 4.8 & 4.615612\\\\\n",
       "\t47 & 5.1 & 5.405869\\\\\n",
       "\t48 & 4.6 & 4.831141\\\\\n",
       "\t49 & 5.3 & 5.256629\\\\\n",
       "\t50 & 5.0 & 4.900203\\\\\n",
       "\t91 & 5.5 & 6.048062\\\\\n",
       "\t92 & 6.1 & 6.329858\\\\\n",
       "\t93 & 5.8 & 5.727351\\\\\n",
       "\t94 & 5.0 & 5.113728\\\\\n",
       "\t95 & 5.6 & 5.879365\\\\\n",
       "\t96 & 5.7 & 6.163955\\\\\n",
       "\t97 & 5.7 & 6.017489\\\\\n",
       "\t98 & 6.2 & 6.097667\\\\\n",
       "\t99 & 5.1 & 4.933915\\\\\n",
       "\t100 & 5.7 & 5.868249\\\\\n",
       "\t141 & 6.7 & 6.426658\\\\\n",
       "\t142 & 6.9 & 6.103173\\\\\n",
       "\t143 & 5.8 & 6.136541\\\\\n",
       "\t144 & 6.8 & 6.813658\\\\\n",
       "\t145 & 6.7 & 6.567556\\\\\n",
       "\t146 & 6.7 & 6.114289\\\\\n",
       "\t147 & 6.3 & 5.918239\\\\\n",
       "\t148 & 6.5 & 6.346501\\\\\n",
       "\t149 & 6.2 & 6.550893\\\\\n",
       "\t150 & 5.9 & 6.421131\\\\\n",
       "\\end{tabular}\n"
      ],
      "text/markdown": [
       "\n",
       "A data.frame: 30 x 2\n",
       "\n",
       "| <!--/--> | original &lt;dbl&gt; | predict &lt;dbl&gt; |\n",
       "|---|---|---|\n",
       "| 41 | 5.0 | 4.880745 |\n",
       "| 42 | 4.5 | 4.052000 |\n",
       "| 43 | 4.4 | 4.750963 |\n",
       "| 44 | 5.0 | 4.889066 |\n",
       "| 45 | 5.1 | 5.491594 |\n",
       "| 46 | 4.8 | 4.615612 |\n",
       "| 47 | 5.1 | 5.405869 |\n",
       "| 48 | 4.6 | 4.831141 |\n",
       "| 49 | 5.3 | 5.256629 |\n",
       "| 50 | 5.0 | 4.900203 |\n",
       "| 91 | 5.5 | 6.048062 |\n",
       "| 92 | 6.1 | 6.329858 |\n",
       "| 93 | 5.8 | 5.727351 |\n",
       "| 94 | 5.0 | 5.113728 |\n",
       "| 95 | 5.6 | 5.879365 |\n",
       "| 96 | 5.7 | 6.163955 |\n",
       "| 97 | 5.7 | 6.017489 |\n",
       "| 98 | 6.2 | 6.097667 |\n",
       "| 99 | 5.1 | 4.933915 |\n",
       "| 100 | 5.7 | 5.868249 |\n",
       "| 141 | 6.7 | 6.426658 |\n",
       "| 142 | 6.9 | 6.103173 |\n",
       "| 143 | 5.8 | 6.136541 |\n",
       "| 144 | 6.8 | 6.813658 |\n",
       "| 145 | 6.7 | 6.567556 |\n",
       "| 146 | 6.7 | 6.114289 |\n",
       "| 147 | 6.3 | 5.918239 |\n",
       "| 148 | 6.5 | 6.346501 |\n",
       "| 149 | 6.2 | 6.550893 |\n",
       "| 150 | 5.9 | 6.421131 |\n",
       "\n"
      ],
      "text/plain": [
       "    original predict \n",
       "41  5.0      4.880745\n",
       "42  4.5      4.052000\n",
       "43  4.4      4.750963\n",
       "44  5.0      4.889066\n",
       "45  5.1      5.491594\n",
       "46  4.8      4.615612\n",
       "47  5.1      5.405869\n",
       "48  4.6      4.831141\n",
       "49  5.3      5.256629\n",
       "50  5.0      4.900203\n",
       "91  5.5      6.048062\n",
       "92  6.1      6.329858\n",
       "93  5.8      5.727351\n",
       "94  5.0      5.113728\n",
       "95  5.6      5.879365\n",
       "96  5.7      6.163955\n",
       "97  5.7      6.017489\n",
       "98  6.2      6.097667\n",
       "99  5.1      4.933915\n",
       "100 5.7      5.868249\n",
       "141 6.7      6.426658\n",
       "142 6.9      6.103173\n",
       "143 5.8      6.136541\n",
       "144 6.8      6.813658\n",
       "145 6.7      6.567556\n",
       "146 6.7      6.114289\n",
       "147 6.3      5.918239\n",
       "148 6.5      6.346501\n",
       "149 6.2      6.550893\n",
       "150 5.9      6.421131"
      ]
     },
     "metadata": {},
     "output_type": "display_data"
    }
   ],
   "source": [
    "predicted_length"
   ]
  },
  {
   "cell_type": "code",
   "execution_count": 86,
   "metadata": {
    "vscode": {
     "languageId": "r"
    }
   },
   "outputs": [],
   "source": [
    "predicted_length$diff <- predicted_length$predict - predicted_length$original"
   ]
  },
  {
   "cell_type": "code",
   "execution_count": 89,
   "metadata": {
    "vscode": {
     "languageId": "r"
    }
   },
   "outputs": [
    {
     "data": {
      "text/html": [
       "0.109205222193955"
      ],
      "text/latex": [
       "0.109205222193955"
      ],
      "text/markdown": [
       "0.109205222193955"
      ],
      "text/plain": [
       "[1] 0.1092052"
      ]
     },
     "metadata": {},
     "output_type": "display_data"
    }
   ],
   "source": [
    "mean(predicted_length$diff^2)"
   ]
  },
  {
   "cell_type": "code",
   "execution_count": 62,
   "metadata": {
    "vscode": {
     "languageId": "r"
    }
   },
   "outputs": [
    {
     "name": "stdout",
     "output_type": "stream",
     "text": [
      "[41] Actual length of sepal = 5, Predicted length of sepal= 4.880745\n",
      "[42] Actual length of sepal = 4.5, Predicted length of sepal= 4.052\n",
      "[43] Actual length of sepal = 4.4, Predicted length of sepal= 4.750963\n",
      "[44] Actual length of sepal = 5, Predicted length of sepal= 4.889066\n",
      "[45] Actual length of sepal = 5.1, Predicted length of sepal= 5.491594\n",
      "[46] Actual length of sepal = 4.8, Predicted length of sepal= 4.615612\n",
      "[47] Actual length of sepal = 5.1, Predicted length of sepal= 5.405869\n",
      "[48] Actual length of sepal = 4.6, Predicted length of sepal= 4.831141\n",
      "[49] Actual length of sepal = 5.3, Predicted length of sepal= 5.256629\n",
      "[50] Actual length of sepal = 5, Predicted length of sepal= 4.900203\n",
      "[91] Actual length of sepal = 5.5, Predicted length of sepal= 6.048062\n",
      "[92] Actual length of sepal = 6.1, Predicted length of sepal= 6.329858\n",
      "[93] Actual length of sepal = 5.8, Predicted length of sepal= 5.727351\n",
      "[94] Actual length of sepal = 5, Predicted length of sepal= 5.113728\n",
      "[95] Actual length of sepal = 5.6, Predicted length of sepal= 5.879365\n",
      "[96] Actual length of sepal = 5.7, Predicted length of sepal= 6.163955\n",
      "[97] Actual length of sepal = 5.7, Predicted length of sepal= 6.017489\n",
      "[98] Actual length of sepal = 6.2, Predicted length of sepal= 6.097667\n",
      "[99] Actual length of sepal = 5.1, Predicted length of sepal= 4.933915\n",
      "[100] Actual length of sepal = 5.7, Predicted length of sepal= 5.868249\n",
      "[141] Actual length of sepal = 6.7, Predicted length of sepal= 6.426658\n",
      "[142] Actual length of sepal = 6.9, Predicted length of sepal= 6.103173\n",
      "[143] Actual length of sepal = 5.8, Predicted length of sepal= 6.136541\n",
      "[144] Actual length of sepal = 6.8, Predicted length of sepal= 6.813658\n",
      "[145] Actual length of sepal = 6.7, Predicted length of sepal= 6.567556\n",
      "[146] Actual length of sepal = 6.7, Predicted length of sepal= 6.114289\n",
      "[147] Actual length of sepal = 6.3, Predicted length of sepal= 5.918239\n",
      "[148] Actual length of sepal = 6.5, Predicted length of sepal= 6.346501\n",
      "[149] Actual length of sepal = 6.2, Predicted length of sepal= 6.550893\n",
      "[150] Actual length of sepal = 5.9, Predicted length of sepal= 6.421131\n"
     ]
    }
   ],
   "source": [
    "for(i in data_test_rows) {\n",
    "    result <- predict(model, data.frame(Sepal.Width = iris$Sepal.Width[i], Petal.Length = iris$Petal.Length[i], Petal.Width = iris$Petal.Width[i])) # Sepal.Length vs Prediction Results \n",
    "    cat(\"[\", i, \"] \" , \"Actual length of sepal = \", iris$Sepal.Length[i], \", \", \"Predicted length of sepal= \", result, \"\\n\", sep = \"\")\n",
    "\n",
    "}"
   ]
  },
  {
   "cell_type": "code",
   "execution_count": null,
   "metadata": {
    "vscode": {
     "languageId": "r"
    }
   },
   "outputs": [
    {
     "name": "stdout",
     "output_type": "stream",
     "text": [
      "[1] 2\n",
      "[1] 3\n"
     ]
    }
   ],
   "source": []
  }
 ],
 "metadata": {
  "kernelspec": {
   "display_name": "R",
   "language": "R",
   "name": "ir"
  },
  "language_info": {
   "codemirror_mode": "r",
   "file_extension": ".r",
   "mimetype": "text/x-r-source",
   "name": "R",
   "pygments_lexer": "r",
   "version": "4.4.1"
  }
 },
 "nbformat": 4,
 "nbformat_minor": 2
}
