{
 "cells": [
  {
   "cell_type": "code",
   "execution_count": null,
   "metadata": {
    "vscode": {
     "languageId": "r"
    }
   },
   "outputs": [
    {
     "name": "stderr",
     "output_type": "stream",
     "text": [
      "\n",
      "Attaching package: 'bslib'\n",
      "\n",
      "\n",
      "The following object is masked from 'package:utils':\n",
      "\n",
      "    page\n",
      "\n",
      "\n",
      "\n",
      "Listening on http://127.0.0.1:3086\n",
      "\n"
     ]
    }
   ],
   "source": [
    "# install.packages(\"shiny\")\n",
    "library(shiny)\n",
    "# runExample(\"01_hello\")"
   ]
  },
  {
   "cell_type": "code",
   "execution_count": 18,
   "metadata": {
    "vscode": {
     "languageId": "r"
    }
   },
   "outputs": [
    {
     "name": "stderr",
     "output_type": "stream",
     "text": [
      "\n",
      "Listening on http://127.0.0.1:3086\n",
      "\n"
     ]
    }
   ],
   "source": [
    "# UI\n",
    "ui <- fluidPage(\n",
    "    titlePanel(\"Hello NYCU!\"),\n",
    "    sliderInput(\"bins\", \"Please select bins\", min = 1, max = 50, value = 30),\n",
    "\n",
    "    plotOutput(outputId = \"distPlot\")\n",
    ")\n",
    "\n",
    "\n",
    "# Server\n",
    "server <- function(input, output) {\n",
    "    output$distPlot <- renderPlot({\n",
    "\n",
    "        x <- faithful$eruptions\n",
    "        bins <- seq(min(x), max(x), length.out = as.numeric(input$bins) + 1)\n",
    "        \n",
    "        hist(x,\n",
    "            breaks = bins, col = \"#75AADB\", border = \"white\",\n",
    "            xlab = \"Eruption Duration (in mins)\",\n",
    "            main = \"Histogram of Eruption Duration\"\n",
    "        )\n",
    "\n",
    "    })\n",
    "}\n",
    "# Create Shiny app\n",
    "shinyApp(ui = ui, server = server)"
   ]
  }
 ],
 "metadata": {
  "kernelspec": {
   "display_name": "R",
   "language": "R",
   "name": "ir"
  },
  "language_info": {
   "codemirror_mode": "r",
   "file_extension": ".r",
   "mimetype": "text/x-r-source",
   "name": "R",
   "pygments_lexer": "r",
   "version": "4.4.2"
  }
 },
 "nbformat": 4,
 "nbformat_minor": 2
}
