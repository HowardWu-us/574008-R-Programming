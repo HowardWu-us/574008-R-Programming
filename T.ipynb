{
 "cells": [
  {
   "cell_type": "code",
   "execution_count": 1,
   "metadata": {
    "vscode": {
     "languageId": "r"
    }
   },
   "outputs": [
    {
     "ename": "ERROR",
     "evalue": "Error in library(sf): there is no package called ‘sf’\n",
     "output_type": "error",
     "traceback": [
      "Error in library(sf): there is no package called ‘sf’\nTraceback:\n",
      "1. stop(packageNotFoundError(package, lib.loc, sys.call()))"
     ]
    }
   ],
   "source": [
    "# # 安裝並載入所需套件\n",
    "# install.packages(\"terra\", type = \"source\")\n",
    "# install.packages(\"ggplot2\")\n",
    "# install.packages(\"sf\")\n",
    "# install.packages(\"rnaturalearth\")\n",
    "# install.packages(\"rnaturalearthdata\")\n",
    "# install.packages(\"leaflet\")\n",
    "\n",
    "library(ggplot2)\n",
    "library(sf)\n",
    "library(rnaturalearth)\n",
    "library(rnaturalearthdata)\n",
    "library(leaflet)\n",
    "library(dplyr)\n",
    "\n",
    "# brew install gdal proj geos udunits\n",
    "\n"
   ]
  },
  {
   "cell_type": "code",
   "execution_count": null,
   "metadata": {
    "vscode": {
     "languageId": "r"
    }
   },
   "outputs": [],
   "source": [
    "earthquake_data <- read.csv(\"Eartquakes-1990-2023.csv\")\n",
    "head(earthquake_data)"
   ]
  },
  {
   "cell_type": "code",
   "execution_count": null,
   "metadata": {
    "vscode": {
     "languageId": "r"
    }
   },
   "outputs": [],
   "source": [
    "tail(earthquake_data)"
   ]
  },
  {
   "cell_type": "markdown",
   "metadata": {},
   "source": [
    "### 在世界地圖顯示海嘯的分佈（規模、地點、海嘯）"
   ]
  },
  {
   "cell_type": "code",
   "execution_count": 4,
   "metadata": {
    "vscode": {
     "languageId": "r"
    }
   },
   "outputs": [],
   "source": [
    "tsunami_data <- subset(earthquake_data, tsunami == TRUE, select = -c(tsunami))"
   ]
  },
  {
   "cell_type": "code",
   "execution_count": null,
   "metadata": {
    "vscode": {
     "languageId": "r"
    }
   },
   "outputs": [],
   "source": [
    "# 使用 ggplot 繪製世界地圖和海嘯位置，使用顏色來表示規模\n",
    "library(ggplot2)\n",
    "\n",
    "# 載入世界地圖\n",
    "world <- ne_countries(scale = \"medium\", returnclass = \"sf\")\n",
    "\n",
    "# 繪製地圖\n",
    "ggplot(data = world) +\n",
    "  geom_sf() +\n",
    "  geom_point(\n",
    "             data = tsunami_data,\n",
    "             aes(x = longitude, y = latitude, color = magnitudo),\n",
    "             size = 1,\n",
    "             alpha = 0.6) +\n",
    "  scale_color_gradient(name = \"Magnitude\", low = \"purple\", high = \"red\") +\n",
    "  theme_minimal() +\n",
    "  labs(\n",
    "       title = \"Global Tsunami Distribution\",\n",
    "       subtitle = \"Showing the locations and magnitudes of tsunamis\",\n",
    "       x = \"Longitude\",\n",
    "       y = \"Latitude\")\n"
   ]
  },
  {
   "cell_type": "code",
   "execution_count": null,
   "metadata": {
    "vscode": {
     "languageId": "r"
    }
   },
   "outputs": [],
   "source": [
    "library(ggplot2)\n",
    "\n",
    "# 假設 tsunami_data 已包含緯度 (latitude) 和日期 (date) 欄位\n",
    "# 提取月份\n",
    "tsunami_data$month <- format(as.Date(tsunami_data$date), \"%m\") # 提取月份\n",
    "\n",
    "# 繪製散點圖\n",
    "ggplot(data = tsunami_data, aes(x = as.numeric(month), y = latitude)) +\n",
    "    geom_point(aes(color = magnitudo), alpha = 0.7, size = 2) +\n",
    "    scale_x_continuous(breaks = 1:12, labels = month.abb) + # 使用月份縮寫\n",
    "    scale_color_gradient(name = \"Magnitude\", low = \"blue\", high = \"red\") +\n",
    "    theme_minimal() +\n",
    "    labs(\n",
    "        title = \"Correlation Between Latitude and Month\",\n",
    "        subtitle = \"Analyzing tsunami-triggering earthquakes\",\n",
    "        x = \"Month\",\n",
    "        y = \"Latitude\"\n",
    "    )"
   ]
  },
  {
   "cell_type": "code",
   "execution_count": null,
   "metadata": {
    "vscode": {
     "languageId": "r"
    }
   },
   "outputs": [],
   "source": [
    "# 檢查 place 欄位中是否包含 \"Taiwan\"\n",
    "taiwan_earthquakes <- tsunami_data[grepl(\"Taiwan\", tsunami_data$state), ]\n",
    "taiwan_earthquakes <- taiwan_earthquakes[complete.cases(taiwan_earthquakes), ]\n",
    "print(taiwan_earthquakes)"
   ]
  }
 ],
 "metadata": {
  "kernelspec": {
   "display_name": "R",
   "language": "R",
   "name": "ir"
  },
  "language_info": {
   "codemirror_mode": "r",
   "file_extension": ".r",
   "mimetype": "text/x-r-source",
   "name": "R",
   "pygments_lexer": "r",
   "version": "4.4.2"
  }
 },
 "nbformat": 4,
 "nbformat_minor": 2
}
